{
  "cells": [
    {
      "cell_type": "markdown",
      "metadata": {
        "id": "view-in-github",
        "colab_type": "text"
      },
      "source": [
        "<a href=\"https://colab.research.google.com/github/SangRok-Yun/ai_project1/blob/main/n221a_tree_based_model_ipynb%EC%9D%98_%EC%82%AC%EB%B3%B8.ipynb\" target=\"_parent\"><img src=\"https://colab.research.google.com/assets/colab-badge.svg\" alt=\"Open In Colab\"/></a>"
      ]
    },
    {
      "cell_type": "markdown",
      "metadata": {
        "id": "skgeg3LE73Sq"
      },
      "source": [
        "<img align=\"right\" src=\"https://ds-cs-images.s3.ap-northeast-2.amazonaws.com/Codestates_Fulllogo_Color.png\" width=100>\n",
        "\n",
        "## *AIB / SECTION 2 / SPRINT 2 / NOTE 1*\n",
        "\n",
        "# 📝 Assignment\n",
        "---"
      ]
    },
    {
      "cell_type": "markdown",
      "metadata": {
        "id": "hvSMseum8Gse"
      },
      "source": [
        "# 🌱 **기본 과제**\n",
        "[캐글](https://www.kaggle.com/) 계정을 만든 후, [공유된 인클래스 대회 url](https://www.kaggle.com/t/042a050ee0cd46ffa70e3d5a52a57fdc) 을 통해 대회에 참여하세요. \n",
        "\n",
        "오늘 과제에서 사용하는 데이터셋의 Description을 확인해 보세요. "
      ]
    },
    {
      "cell_type": "markdown",
      "metadata": {
        "id": "YvnaoGLE_f1l"
      },
      "source": [
        "##### **Data Description**"
      ]
    },
    {
      "cell_type": "markdown",
      "metadata": {
        "id": "qPlp9KIKAfpi"
      },
      "source": [
        "> 모든 binary binary 변수는 다음과 같은 규칙을 따릅니다. <br>\n",
        "`0 : No / 1 : Yes`\n",
        "\n",
        "- **targets**\n",
        "  - `vacc_h1n1_f` - H1N1독감 백신 반응 (이 문제의 label)\n",
        "  - `vacc_ease_f` - 계절성 독감 백신 반응\n",
        "- **features**\n",
        "  - `h1n1_concern` - H1N1백신에 대한 우려 정도\n",
        "    - 0 : 전혀 우려되지 않음\n",
        "    - 1 : 그다지 우려되지 않음\n",
        "    - 2 : 다소 우려됨\n",
        "    - 3 : 매우 걱정됨\n",
        "  - `h1n1_knowledge` - H1N1백신에 대해 얼마나 잘 알고 있는가?\n",
        "    - 0 : 아는 것이 전혀 없다\n",
        "    - 1 : 조금 알고 있다.\n",
        "    - 2 : 매우 잘 알고 있다.\n",
        "  - `behavioral_antiviral_meds` - 항생제 복용 여부 (binary)\n",
        "  - `behavioral_avoidance` - 독감 유증상자와의 접촉을 피해왔는가?\n",
        "  - `behavioral_face_mask` - 마스크를 착용 하였는가?\n",
        "  - `behavioral_wash_hands` - 손을 자주 씻거나 세정제를 사용하였는가? \n",
        "  - `behavioral_large_gatherings` - 대규모 집단 모임 참석을 줄였는가? \n",
        "  - `behavioral_outside_home` - 동거인 외의 사람들과의 접촉을 피하였는가?\n",
        "  - `behavioral_touch_face` - 눈, 코, 입 등을 만지지 않았는가?\n",
        "  - `doctor_recc_h1n1` - 의사에게 H1N1독감 백신 투여를 권유받았는가? \n",
        "  - `doctor_recc_seasonal` - 의사에게 계절성 독감 백신 투여를 권유받았는가?\n",
        "  - `chronic_med_condition` - 다음의 만성질환으로 인해 약물을 복용하고 있는가? : 천식 또는 기타 폐 질환, 당뇨병, 심장 질환, 신장 질환, 겸상 적혈구 빈혈 또는 기타 빈혈, 신경학적 또는 신경근 질환, 간 질환 또는 만성 질환 또는 약물 복용으로 인한 면역 체계 약화 만성 질환\n",
        "  - `child_under_6_months` - 6개월 미만 영아와 정기적으로 긴밀히 접촉을 한 적이 있는가?\n",
        "  - `health_insurance` - 건강 보험에 가입되어 있는가?\n",
        "  - `health_worker` - 의료계 종사자인가?\n",
        "  - `opinion_h1n1_vacc_effective` - H1N1백신의 효과에 대한 응답자의 생각\n",
        "    - Not at all effective\n",
        "    - Not very effective\n",
        "    - Don't know\n",
        "    - Somewhat effective\n",
        "    - Very effective\n",
        "  - `opinion_h1n1_risk` - H1N1백신의 위험에 대한 응답자의 생각\n",
        "    - Very Low\n",
        "    - Somewhat low\n",
        "    - Don't know\n",
        "    - Somewhat high\n",
        "    - Very high\n",
        "  - `opinion_h1n1_sick_from_vacc` - H1N1백신 투여 후 질병에 걸릴 수도 있는 위험에 대한 응답자의 생각 \n",
        "    - Not at all worried\n",
        "    - Not very worried\n",
        "    - Don't know\n",
        "    - Somewhat worried\n",
        "    - Very worried\n",
        "  - `opinion_seas_vacc_effective` - 계절성 백신의 효과에 대한 응답자의 생각\n",
        "    - Not very effective\n",
        "    - Don't know\n",
        "    - Somewhat effective\n",
        "    - Very effective\n",
        "  - `opinion_seas_risk` - 계절성 백신의 위험에 대한 응답자의 생각\n",
        "    - Very Low\n",
        "    - Somewhat low\n",
        "    - Don't know\n",
        "    - Somewhat high\n",
        "    - Very high\n",
        "  - `opinion_seas_sick_from_vacc` - 계절성 백신 투여 후 질병에 걸릴 수도 있는 위험에 대한 응답자의 생각\n",
        "    - Not at all worried\n",
        "    - Not very worried\n",
        "    - Don't know\n",
        "    - Somewhat worried\n",
        "    - Very worried\n",
        "  - `agegrp` - 응답자의 연령별 그룹\n",
        "    - 6 Months - 9 Years\n",
        "    - 10 - 17 Years\n",
        "    - 18 - 34 Years\n",
        "    - 35 - 44 Years\n",
        "    - 45 - 54 Years\n",
        "    - 55 - 64 Years\n",
        "    - 65+ Years\n",
        "  - `education_comp` - 응답자 스스로가 답한 교육 이수 수준\n",
        "    - 1 = < 12 Years\n",
        "    - 2 = 12 Years\n",
        "    - 3 = Some College\n",
        "    - 4 = College Graduate\n",
        "  - `raceeth4_i` - 응답자의 인종\n",
        "    - 1 = Hispanic\n",
        "    - 2 = Non-Hispanic, Black Only\n",
        "    - 3 = Non-Hispanic, White Only\n",
        "    - 4 = Non-Hispanic, Other or Multiple Races\n",
        "  - `sex_i` - 응답자의 성별\n",
        "    - 1 = Male\n",
        "    - 2 = Female\n",
        "  - `inc_pov` - 2008 년 인구 조사 빈곤 기준과 관련하여 응답자의 가구 연간 소득\n",
        "    - 1 = > $75,000\n",
        "    - 2 = <= $75,000\n",
        "    - 3 = Below Poverty\n",
        "    - 4 = Unknown\n",
        "  - `marital` - 응답자의 결혼 여부\n",
        "    - 1 = Married\n",
        "    - 2 = Not Married\n",
        "  - `rent_own_r` - 응답자의 거주 현황\n",
        "    - 1 = Home is Owned\n",
        "    - 2 = Home is Rented or Other Arrangement\n",
        "  - `employment_status` - 응답자의 근로 현황\n",
        "    - Employed\n",
        "    - Not in Labor Force\n",
        "    - Unemployed\n",
        "  - `census_region` - 실제 인구 조사 거주 지역\n",
        "    - 1=northeast\n",
        "    - 2=midwest\n",
        "    - 3=south\n",
        "    - 4=west\n",
        "  - `census_msa` -미국 인구 조사에서 정의한 대도시 통계 지역 (MSA) 내 응답자의 거주지.\n",
        "  - `n_adult_r` - 거주 구성원 중 어른 인원 수\n",
        "  - `household_children` - 거주 구성원 중 어린이 인원 수\n",
        "  - `n_people_r` - 거주 구성원의 총 인원 수\n",
        "  - `employment_industry` - 응답자가 종사하는 산업 구분\n",
        "  - `employment_occupation` - 응답자의 직업 유형 (짧은 임의의 문자열로 표시)\n",
        "  - `hhs_region` - HHS 감시 지역 번호\n",
        "    - Region 1: CT,ME,MA,NH,RI,VT\n",
        "    - Region 2: NJ,NY\n",
        "    - Region 3: DE,DC,MD,PA,VA,WV\n",
        "    - Region 4: AL,FL,GA,KY,MS,NC,SC,TN\n",
        "    - Region 5: IL,IN,MI,MN,OH,WI\n",
        "    - Region 6: AR,LA,NM,OK,TX\n",
        "    - Region 7: IA,KS,MO,NE\n",
        "    - Region 8: CO,MT,ND,SD,UT,WY\n",
        "    - Region 9: AZ,CA,HI,NV\n",
        "    - Region 10: AK,ID,OR,WA\n",
        "  - `state` - 거주하는 주(州)"
      ]
    },
    {
      "cell_type": "markdown",
      "source": [
        "## **Part 1. \bEDA 및 Feature Engineering**\n",
        "- H1N1 데이터를 불러오세요.\n",
        "- profiling을 사용하여 데이터를 살펴보고, missing value, zeros, cardinality 등을 확인하여 처리하세요.\n",
        "- 본인만의 특성공학을 수행하세요. \n",
        "- 모든 작업을 완료한 후 데이터셋을 분리하세요.\n",
        "  - feature와 target으로 나누세요. \n",
        "  - 주어진 train 데이터를 훈련/검증 셋으로 나누고, 주어진 test 데이터는 테스트 셋으로 사용하세요."
      ],
      "metadata": {
        "id": "K7_72eVwtnlC"
      }
    },
    {
      "cell_type": "code",
      "execution_count": 1,
      "metadata": {
        "id": "FL6EjgRf996I",
        "colab": {
          "base_uri": "https://localhost:8080/"
        },
        "outputId": "3fcacb68-6b95-45b4-efac-0a0439ddb86f"
      },
      "outputs": [
        {
          "output_type": "stream",
          "name": "stdout",
          "text": [
            "Looking in indexes: https://pypi.org/simple, https://us-python.pkg.dev/colab-wheels/public/simple/\n",
            "Collecting category_encoders\n",
            "  Downloading category_encoders-2.6.0-py2.py3-none-any.whl (81 kB)\n",
            "\u001b[2K     \u001b[90m━━━━━━━━━━━━━━━━━━━━━━━━━━━━━━━━━━━━━━━━\u001b[0m \u001b[32m81.2/81.2 KB\u001b[0m \u001b[31m2.2 MB/s\u001b[0m eta \u001b[36m0:00:00\u001b[0m\n",
            "\u001b[?25hRequirement already satisfied: patsy>=0.5.1 in /usr/local/lib/python3.9/dist-packages (from category_encoders) (0.5.3)\n",
            "Requirement already satisfied: scikit-learn>=0.20.0 in /usr/local/lib/python3.9/dist-packages (from category_encoders) (1.2.2)\n",
            "Requirement already satisfied: scipy>=1.0.0 in /usr/local/lib/python3.9/dist-packages (from category_encoders) (1.10.1)\n",
            "Requirement already satisfied: statsmodels>=0.9.0 in /usr/local/lib/python3.9/dist-packages (from category_encoders) (0.13.5)\n",
            "Requirement already satisfied: pandas>=1.0.5 in /usr/local/lib/python3.9/dist-packages (from category_encoders) (1.4.4)\n",
            "Requirement already satisfied: numpy>=1.14.0 in /usr/local/lib/python3.9/dist-packages (from category_encoders) (1.22.4)\n",
            "Requirement already satisfied: python-dateutil>=2.8.1 in /usr/local/lib/python3.9/dist-packages (from pandas>=1.0.5->category_encoders) (2.8.2)\n",
            "Requirement already satisfied: pytz>=2020.1 in /usr/local/lib/python3.9/dist-packages (from pandas>=1.0.5->category_encoders) (2022.7.1)\n",
            "Requirement already satisfied: six in /usr/local/lib/python3.9/dist-packages (from patsy>=0.5.1->category_encoders) (1.16.0)\n",
            "Requirement already satisfied: threadpoolctl>=2.0.0 in /usr/local/lib/python3.9/dist-packages (from scikit-learn>=0.20.0->category_encoders) (3.1.0)\n",
            "Requirement already satisfied: joblib>=1.1.1 in /usr/local/lib/python3.9/dist-packages (from scikit-learn>=0.20.0->category_encoders) (1.1.1)\n",
            "Requirement already satisfied: packaging>=21.3 in /usr/local/lib/python3.9/dist-packages (from statsmodels>=0.9.0->category_encoders) (23.0)\n",
            "Installing collected packages: category_encoders\n",
            "Successfully installed category_encoders-2.6.0\n"
          ]
        }
      ],
      "source": [
        "!pip install category_encoders"
      ]
    },
    {
      "cell_type": "code",
      "execution_count": 2,
      "metadata": {
        "id": "cLgknpde92Zr"
      },
      "outputs": [],
      "source": [
        "# 데이터셋 불러오기 \n",
        "import pandas as pd\n",
        "\n",
        "target = 'vacc_h1n1_f'\n",
        "\n",
        "train = pd.merge(pd.read_csv('https://ds-lecture-data.s3.ap-northeast-2.amazonaws.com/vacc_flu/train.csv'), \n",
        "                 pd.read_csv('https://ds-lecture-data.s3.ap-northeast-2.amazonaws.com/vacc_flu/train_labels.csv')[target], left_index=True, right_index=True)\n",
        "test = pd.read_csv('https://ds-lecture-data.s3.ap-northeast-2.amazonaws.com/vacc_flu/test.csv')\n",
        "sample_submission = pd.read_csv('https://ds-lecture-data.s3.ap-northeast-2.amazonaws.com/vacc_flu/submission.csv')"
      ]
    },
    {
      "cell_type": "code",
      "source": [
        "train.head().T"
      ],
      "metadata": {
        "id": "hctFlj4s6i1h"
      },
      "execution_count": null,
      "outputs": []
    },
    {
      "cell_type": "code",
      "source": [
        "train.isnull().sum()"
      ],
      "metadata": {
        "colab": {
          "base_uri": "https://localhost:8080/"
        },
        "id": "5saA-bmU6u--",
        "outputId": "815d3fd4-4180-4824-af54-cb0a389c428d"
      },
      "execution_count": 6,
      "outputs": [
        {
          "output_type": "execute_result",
          "data": {
            "text/plain": [
              "h1n1_concern                    8420\n",
              "h1n1_knowledge                  8420\n",
              "behavioral_antiviral_meds       8519\n",
              "behavioral_avoidance            8672\n",
              "behavioral_face_mask            8444\n",
              "behavioral_wash_hands           8471\n",
              "behavioral_large_gatherings     8514\n",
              "behavioral_outside_home         8521\n",
              "behavioral_touch_face           8583\n",
              "doctor_recc_h1n1                1885\n",
              "doctor_recc_seasonal            1885\n",
              "chronic_med_condition           1317\n",
              "child_under_6_months            9449\n",
              "health_insurance               19421\n",
              "health_worker                   9430\n",
              "opinion_h1n1_vacc_effective     8779\n",
              "opinion_h1n1_risk               8825\n",
              "opinion_h1n1_sick_from_vacc     8869\n",
              "opinion_seas_vacc_effective     8934\n",
              "opinion_seas_risk               9001\n",
              "opinion_seas_sick_from_vacc     9065\n",
              "agegrp                             0\n",
              "education_comp                 10166\n",
              "raceeth4_i                         0\n",
              "sex_i                              0\n",
              "inc_pov                            0\n",
              "marital                        10199\n",
              "rent_own_r                      2196\n",
              "employment_status              10278\n",
              "census_region                      0\n",
              "census_msa                         0\n",
              "n_adult_r                        309\n",
              "household_children               309\n",
              "n_people_r                       134\n",
              "employment_industry            24989\n",
              "employment_occupation          24989\n",
              "hhs_region                         0\n",
              "state                              0\n",
              "vacc_h1n1_f                        0\n",
              "dtype: int64"
            ]
          },
          "metadata": {},
          "execution_count": 6
        }
      ]
    },
    {
      "cell_type": "code",
      "source": [
        "train.nunique()"
      ],
      "metadata": {
        "id": "oRTZ6XNx7xMT"
      },
      "execution_count": null,
      "outputs": []
    },
    {
      "cell_type": "code",
      "source": [
        "from sklearn.model_selection import train_test_split\n",
        "\n",
        "train, val = train_test_split(\n",
        "    train, train_size=0.80, test_size=0.20, stratify=train[target], random_state=2\n",
        ")\n",
        "\n",
        "train.shape, val.shape, test.shape"
      ],
      "metadata": {
        "colab": {
          "base_uri": "https://localhost:8080/"
        },
        "id": "YkLRMRM7-hkB",
        "outputId": "5e81464c-fec6-4ead-eaf9-663d7e5e2006"
      },
      "execution_count": 8,
      "outputs": [
        {
          "output_type": "execute_result",
          "data": {
            "text/plain": [
              "((33723, 39), (8431, 39), (28104, 38))"
            ]
          },
          "metadata": {},
          "execution_count": 8
        }
      ]
    },
    {
      "cell_type": "code",
      "source": [
        "train[target].value_counts(normalize=True)"
      ],
      "metadata": {
        "colab": {
          "base_uri": "https://localhost:8080/"
        },
        "id": "AOqf9Ypp-utS",
        "outputId": "5ca4183b-0a73-4920-b3b3-646db57fd2b5"
      },
      "execution_count": 9,
      "outputs": [
        {
          "output_type": "execute_result",
          "data": {
            "text/plain": [
              "0    0.760935\n",
              "1    0.239065\n",
              "Name: vacc_h1n1_f, dtype: float64"
            ]
          },
          "metadata": {},
          "execution_count": 9
        }
      ]
    },
    {
      "cell_type": "code",
      "source": [
        "from pandas_profiling import ProfileReport\n",
        "\n",
        "profile = ProfileReport(train, minimal=True)\n",
        "profile"
      ],
      "metadata": {
        "id": "noR6_I2u9wHV"
      },
      "execution_count": null,
      "outputs": []
    },
    {
      "cell_type": "code",
      "source": [
        "import numpy as np\n",
        "\n",
        "\n",
        "def engineer(df):\n",
        "    \"\"\"특성을 엔지니어링 하는 함수입니다.\"\"\"\n",
        "\n",
        "    # 높은 카디널리티를 가지는 특성을 제거합니다.\n",
        "    selected_cols = df.select_dtypes(include=[\"number\", \"object\"])\n",
        "    labels = selected_cols.nunique()  # 특성별 카디널리티 리스트\n",
        "    selected_features = labels[labels <= 20].index.tolist()  # 카디널리티가 30보다 작은 특성만 선택합니다.\n",
        "    df = df[selected_features]\n",
        "\n",
        "    # 새로운 특성을 생성합니다.\n",
        "    behaviorals = [col for col in df.columns if \"behavioral\" in col]\n",
        "    df[\"behaviorals\"] = df[behaviorals].sum(axis=1)\n",
        "\n",
        "    dels = [col for col in df.columns if (\"employment\" in col or \"seas\" in col)]\n",
        "    df.drop(columns=dels, inplace=True)\n",
        "\n",
        "    return df\n",
        "\n",
        "\n",
        "train = engineer(train)\n",
        "val = engineer(val)\n",
        "test = engineer(test)"
      ],
      "metadata": {
        "id": "C5qs3z8S7Ezo"
      },
      "execution_count": 11,
      "outputs": []
    },
    {
      "cell_type": "code",
      "source": [
        "features = train.drop(columns=[target]).columns\n",
        "\n",
        "X_train = train[features]\n",
        "y_train = train[target]\n",
        "X_val = val[features]\n",
        "y_val = val[target]\n",
        "X_test = test[features]"
      ],
      "metadata": {
        "id": "4vmU5A8j7qDw"
      },
      "execution_count": 12,
      "outputs": []
    },
    {
      "cell_type": "markdown",
      "source": [
        "## **Part 2. 기준모델**\n",
        "- 최빈값을 사용하여 H1N1 분류기의 기준모델을 생성하세요. "
      ],
      "metadata": {
        "id": "cAQhmQ_8tsWy"
      }
    },
    {
      "cell_type": "markdown",
      "metadata": {
        "id": "_oF-hlqJ9l4t"
      },
      "source": [
        "##### **Q1. 기준모델의 정확도를 반올림하여 소수점 둘째 자리까지 제출해 주세요.**"
      ]
    },
    {
      "cell_type": "code",
      "execution_count": 13,
      "metadata": {
        "id": "enmcGSoOKxWv",
        "colab": {
          "base_uri": "https://localhost:8080/"
        },
        "outputId": "c69401dc-0fcc-4f1f-ef29-fcc91c0edb33"
      },
      "outputs": [
        {
          "output_type": "stream",
          "name": "stdout",
          "text": [
            "기준모델의 정확도는 0.76 입니다\n"
          ]
        }
      ],
      "source": [
        "# 기준모델\n",
        "from sklearn.metrics import accuracy_score\n",
        "\n",
        "base = y_train.mode()[0]\n",
        "baseline = len(y_train) * [base]\n",
        "baseline_acc = accuracy_score(y_train, baseline)\n",
        "print(f'기준모델의 정확도는 {baseline_acc.round(2)} 입니다')"
      ]
    },
    {
      "cell_type": "markdown",
      "source": [
        "## **Part 3. Decision Trees**\n",
        "- 파이프라인을 사용하여 결정트리를 학습시키세요. \n",
        "  - 결측치가 전처리 단계에서 처리되지 않았다면 `SimpleImputer`를 사용하여 결측치를 처리해보세요.\n",
        "  - 범주형 변수는 적절한 encoding을 사용하여 변환하세요. \n",
        "  - `random_state`로 시드를 고정하세요. \n",
        "  - 하이퍼파라미터를 조정하여 모델의 성능을 높여 보세요. \n",
        "  - 과적합에 주의하세요!\n",
        "- 검증세트 스코어를 확인하세요.\n",
        "  - 평가지표는 F1-score입니다. \n",
        "  - 수식은 캐글 Overview-Evaluation 페이지를 확인해 주세요. 평가지표에 대한 내용은 다음에 자세히 배우고 활용할 것입니다. 지금은 스코어를 올리기 위한 노력을 전혀 기울이지 말고 결정트리의 개념과 코드 이해, 사용에 집중하세요!\n",
        "- 특성중요도를 그래프로 나타내 보세요."
      ],
      "metadata": {
        "id": "ejxb-DvNtv8H"
      }
    },
    {
      "cell_type": "code",
      "source": [
        "from category_encoders import OrdinalEncoder\n",
        "from sklearn.impute import SimpleImputer\n",
        "from sklearn.pipeline import make_pipeline\n",
        "from sklearn.tree import DecisionTreeClassifier\n",
        "pipe_dt = make_pipeline(\n",
        "    OrdinalEncoder(),\n",
        "    SimpleImputer(),\n",
        "    DecisionTreeClassifier(random_state=1, criterion=\"entropy\", max_depth=6),\n",
        ")\n",
        "pipe_dt.fit(X_train, y_train)\n",
        "\n",
        "print(\"훈련 정확도: \", pipe_dt.score(X_train, y_train))\n",
        "print(\"검증 정확도: \", pipe_dt.score(X_val, y_val))"
      ],
      "metadata": {
        "colab": {
          "base_uri": "https://localhost:8080/"
        },
        "id": "5sdU54SKAFY-",
        "outputId": "6622f6b9-5ed0-45de-bbb2-81170d519167"
      },
      "execution_count": 24,
      "outputs": [
        {
          "output_type": "stream",
          "name": "stdout",
          "text": [
            "훈련 정확도:  0.8202413782878154\n",
            "검증 정확도:  0.8231526509310877\n"
          ]
        }
      ]
    },
    {
      "cell_type": "markdown",
      "source": [
        "##### **Q2. 파이프라인에 대한 설명으로 틀린 것을 고르세요.**\n",
        "A. 전처리를 담당하는 부분과 모델 학습을 담당하는 부분으로 구성된다. <br>\n",
        "B. `.fit`을 적용시, 파이프라인을 구성하는 모든 단계에 대하여 `.fit_transform`을 수행한다. <br>\n",
        "C. `.predict`를 적용시, 마지막 단계(모델) 학습 결과에 대한 예측값을 반환한다. <br>\n",
        "D. 파이프라인을 구성하는 각 단계마다 하이퍼파라미터를 조정할 수 있다. "
      ],
      "metadata": {
        "id": "V4d-VRxcIZy7"
      }
    },
    {
      "cell_type": "markdown",
      "metadata": {
        "id": "KHFXZurXUQN7"
      },
      "source": [
        "##### **Q3. 검증세트의 F1-score를 반올림하여 소수점 둘째 자리까지 제출해 주세요. (0.5 이상 통과)**"
      ]
    },
    {
      "cell_type": "code",
      "execution_count": 26,
      "metadata": {
        "id": "ugURHcdJTmcL",
        "colab": {
          "base_uri": "https://localhost:8080/"
        },
        "outputId": "d2a48f21-e00e-4338-8036-3c2b831ed540"
      },
      "outputs": [
        {
          "output_type": "execute_result",
          "data": {
            "text/plain": [
              "0.53"
            ]
          },
          "metadata": {},
          "execution_count": 26
        }
      ],
      "source": [
        "from sklearn.metrics import classification_report\n",
        "from sklearn.metrics import f1_score\n",
        "y_val_pred = pipe_dt.predict(X_val)\n",
        "f1_score(y_val, y_val_pred).round(2)"
      ]
    },
    {
      "cell_type": "markdown",
      "source": [
        "## **Part 4. Random Forests**\n",
        "- 파이프라인을 사용하여 랜덤포레스트를 학습시키세요. \n",
        "  - 결측치가 전처리 단계에서 처리되지 않았다면 `SimpleImputer`를 사용하여 결측치를 처리해보세요.\n",
        "  - 범주형 변수는 적절한 encoding을 사용하여 변환하세요.\n",
        "  - `random_state`로 시드를 고정하세요. \n",
        "  - 하이퍼파라미터를 조정하여 모델의 성능을 높여 보세요. \n",
        "  - 랜덤포레스트가 결정트리보다 성능이 오히려 떨어졌을 수도 있습니다! 만약 그렇다면 이유를 논리적으로 분석해 보세요.\n",
        "- 검증세트 스코어를 확인하세요.\n",
        "  - 평가지표는 F1-score입니다."
      ],
      "metadata": {
        "id": "wxOSbGz8t804"
      }
    },
    {
      "cell_type": "markdown",
      "metadata": {
        "id": "JUFrUixhZGdD"
      },
      "source": [
        "##### **Q4. 검증세트의 F1-score를 반올림하여 소수점 둘째 자리까지 제출해 주세요. (0.5 이상 통과)**"
      ]
    },
    {
      "cell_type": "code",
      "execution_count": 28,
      "metadata": {
        "id": "pimwJcksZ6ak",
        "colab": {
          "base_uri": "https://localhost:8080/"
        },
        "outputId": "8a99d7a9-060c-4391-d004-6475d7d18bee"
      },
      "outputs": [
        {
          "output_type": "stream",
          "name": "stdout",
          "text": [
            "훈련 정확도:  0.9908667674880646\n",
            "검증 정확도:  0.8243387498517376\n"
          ]
        },
        {
          "output_type": "execute_result",
          "data": {
            "text/plain": [
              "0.55"
            ]
          },
          "metadata": {},
          "execution_count": 28
        }
      ],
      "source": [
        "from sklearn.ensemble import RandomForestClassifier\n",
        "\n",
        "pipe_rf = make_pipeline(\n",
        "    OrdinalEncoder(),\n",
        "    SimpleImputer(),\n",
        "    RandomForestClassifier(random_state=42, oob_score=True, n_jobs=-1),\n",
        ")\n",
        "\n",
        "pipe_rf.fit(X_train, y_train)\n",
        "\n",
        "\n",
        "print(\"훈련 정확도: \", pipe_rf.score(X_train, y_train))\n",
        "print(\"검증 정확도: \", pipe_rf.score(X_val, y_val))\n",
        "y_val_pred = pipe_rf.predict(X_val)\n",
        "f1_score(y_val, y_val_pred).round(2)\n",
        "     "
      ]
    },
    {
      "cell_type": "code",
      "source": [
        "\n",
        "X_test = test[features]\n",
        "\n",
        "y_test_pred = pipe_dt.predict(X_test)"
      ],
      "metadata": {
        "id": "WJmCwBKtE-df"
      },
      "execution_count": 30,
      "outputs": []
    },
    {
      "cell_type": "markdown",
      "metadata": {
        "id": "xyAuUpPdWKSn"
      },
      "source": [
        "## **Part 5. 결과 제출**\n",
        "- 결과가 가장 좋았던 모델을 사용하여 테스트셋에 대한 예측 결과를 캐글에 제출하세요.\n",
        "  - 스코어가 많이 낮게 나와도 트리기반 모델을 잘 이해하고 결과를 내었다면 충분합니다!"
      ]
    },
    {
      "cell_type": "markdown",
      "metadata": {
        "id": "JYZaXL54b2OU"
      },
      "source": [
        "##### **Q5. 캐글 Leaderboard에 있는 본인의 score를 제출해 주세요.**"
      ]
    },
    {
      "cell_type": "code",
      "execution_count": 29,
      "metadata": {
        "id": "vGtNpvBMcNiA",
        "colab": {
          "base_uri": "https://localhost:8080/"
        },
        "outputId": "cfd7cc1a-a57e-4db3-e13c-f9eb932bbcf0"
      },
      "outputs": [
        {
          "output_type": "stream",
          "name": "stdout",
          "text": [
            "Mounted at /content/drive\n"
          ]
        }
      ],
      "source": [
        "# csv 파일 저장을 위한 구글 드라이브 마운트\n",
        "import sys\n",
        "\n",
        "if \"google.colab\" in sys.modules:\n",
        "    from google.colab import drive\n",
        "    drive.mount('/content/drive')"
      ]
    },
    {
      "cell_type": "code",
      "execution_count": 31,
      "metadata": {
        "id": "DmFBbE8rcO0V"
      },
      "outputs": [],
      "source": [
        "csvfile = pd.DataFrame(y_test_pred, columns=['vacc_h1n1_f']).reset_index()\n",
        "csvfile = csvfile.rename(columns = {'index':'id'})\n",
        "     "
      ]
    },
    {
      "cell_type": "code",
      "source": [
        "\n",
        "csvfile.to_csv('drive/MyDrive/Kaggle/csvfile.csv', index = False)"
      ],
      "metadata": {
        "id": "lUu7jo86E3oZ"
      },
      "execution_count": 34,
      "outputs": []
    },
    {
      "cell_type": "markdown",
      "metadata": {
        "id": "aOS9DPWKche6"
      },
      "source": [
        "# 🥇 **도전 과제**"
      ]
    },
    {
      "cell_type": "markdown",
      "metadata": {
        "id": "brrfPdM-9ZEx"
      },
      "source": [
        "## **Part 6. Encoding**\n",
        "- 랜덤포레스트에서 OneHot Encoding과 Ordinal Encoding을 각각 적용해 보고, 학습 수행시간의 차이를 비교해 보세요. "
      ]
    },
    {
      "cell_type": "code",
      "execution_count": null,
      "metadata": {
        "id": "ERHJNb1VOiJw"
      },
      "outputs": [],
      "source": []
    },
    {
      "cell_type": "markdown",
      "metadata": {
        "id": "A-0LT_eOSbje"
      },
      "source": [
        "## **Part 7. 모델 성능 향상**\n",
        "- \b랜덤포레스트의 하이퍼파라미터를 조정하여 성능을 향상시키세요. \n",
        "  - F1-score 0.58 이상을 달성해 보세요!"
      ]
    },
    {
      "cell_type": "code",
      "execution_count": null,
      "metadata": {
        "id": "j-j-zo4QOgGN"
      },
      "outputs": [],
      "source": []
    }
  ],
  "metadata": {
    "colab": {
      "collapsed_sections": [
        "YvnaoGLE_f1l"
      ],
      "provenance": [],
      "include_colab_link": true
    },
    "kernelspec": {
      "display_name": "Python 3",
      "name": "python3"
    },
    "language_info": {
      "name": "python"
    }
  },
  "nbformat": 4,
  "nbformat_minor": 0
}